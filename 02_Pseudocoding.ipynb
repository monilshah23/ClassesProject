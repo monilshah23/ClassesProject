{
 "cells": [
  {
   "cell_type": "code",
   "execution_count": null,
   "id": "69417444-a628-492a-9f25-ef9408464a9b",
   "metadata": {},
   "outputs": [],
   "source": [
    "\"\"\"\n",
    "    Pseudocode for: \n",
    "    \n",
    "    1. Initialize \"original_price\", \"current_price\", \"increase\", \"percent_increase\", \"threshold_to_buy\", \"threshold_to_sell\", \"porfolio_balance\", \"balance_check\" variables to a float\n",
    "    2. Initialize \"recomendation\" variable to a string\n",
    "    3. Compute \"increase\" by subtracting \"current_price\" from \"original_price\"\n",
    "    4. Compute \"percent_increase\" by dividing \"increase\" with \"original_price\" and multiply by \"100\"\n",
    "    5. Print (\"original_price\"), (\"current_price\"), and (\"percentage_increase\")\n",
    "    6. Determine if the stock should be bought or sold\n",
    "        IF \"percent_increase\" >= 20%\n",
    "            THEN print(Recomendation: Buy)\n",
    "        ELIF \"percent_increase\" <= -20%\n",
    "            THEN print (Recomendation: Sell)\n",
    "        ELSE print(Recomendation: No action recommended) \n",
    "\"\"\""
   ]
  },
  {
   "cell_type": "code",
   "execution_count": 27,
   "id": "ebd68867-2715-4d08-b66f-a6ad841ddf0b",
   "metadata": {},
   "outputs": [
    {
     "name": "stdout",
     "output_type": "stream",
     "text": [
      "Netflix's original price was  $360.35\n",
      "Netflix's current price is  $293.33\n",
      "Netflix's stock increased or decreased by $-67.02\n",
      "Netflix's percentage of stock increased or decreased by -18.6%\n"
     ]
    }
   ],
   "source": [
    "#Declare flots for original prcie, current price, increase, increase percentage \n",
    "\n",
    "original_price = 360.35 #data type float\n",
    "current_price = 293.33 #data type float\n",
    "increase = current_price - original_price #data type float \n",
    "percentage_increase = increase / original_price * 100\n",
    "\n",
    "print(f\"Netflix's original price was  ${original_price}\")\n",
    "print(f\"Netflix's current price is  ${current_price}\")\n",
    "print(f\"Netflix's stock increased or decreased by ${round(increase,2)}\")\n",
    "print(f\"Netflix's percentage of stock increased or decreased by {round(percentage_increase,2)}%\") \n"
   ]
  },
  {
   "cell_type": "code",
   "execution_count": 32,
   "id": "8a77983a-535a-4929-8723-68bfe076125e",
   "metadata": {},
   "outputs": [
    {
     "name": "stdout",
     "output_type": "stream",
     "text": [
      "Only buy if the stock's percentage is grater than 20%\n",
      "Sell if the stock's percentage is lower than -20%\n",
      "Current portfolio balance is $10000\n",
      "Recommendation: No Actions Required\n"
     ]
    }
   ],
   "source": [
    "# Create float for threshold_to_buy, threshold_to_sell, portfolio balance, balance check \n",
    "thresold_to_buy = 20 #data type integer\n",
    "thresold_to_sell = -20 #data type integer\n",
    "portfolio_balance = 10000 #data type float\n",
    "\n",
    "print(f\"Only buy if the stock's percentage is grater than {thresold_to_buy}%\")\n",
    "print(f\"Sell if the stock's percentage is lower than {thresold_to_sell}%\")\n",
    "print(f\"Current portfolio balance is ${portfolio_balance}\")\n",
    "\n",
    "# Create float for balance check\n",
    "\n",
    "balance_check = portfolio_balance / 5 #data type integer \n",
    "\n",
    "if balance_check >= current_price and percentage_increase >= thresold_to_buy:\n",
    "    print(f\"Recommendation: BUY\") \n",
    "elif percentage_increase <=  thresold_to_sell:   \n",
    "    print(f\"Recommendation: SELL\")\n",
    "else:\n",
    "    print(f\"Recommendation: No Actions Required\")"
   ]
  },
  {
   "cell_type": "code",
   "execution_count": null,
   "id": "012685fa-45ee-4eb9-93b0-7299207dc6db",
   "metadata": {},
   "outputs": [],
   "source": []
  }
 ],
 "metadata": {
  "kernelspec": {
   "display_name": "Python 3",
   "language": "python",
   "name": "python3"
  },
  "language_info": {
   "codemirror_mode": {
    "name": "ipython",
    "version": 3
   },
   "file_extension": ".py",
   "mimetype": "text/x-python",
   "name": "python",
   "nbconvert_exporter": "python",
   "pygments_lexer": "ipython3",
   "version": "3.8.8"
  }
 },
 "nbformat": 4,
 "nbformat_minor": 5
}
